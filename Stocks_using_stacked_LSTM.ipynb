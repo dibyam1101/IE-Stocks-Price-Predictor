{
  "cells": [
    {
      "cell_type": "markdown",
      "metadata": {
        "id": "view-in-github",
        "colab_type": "text"
      },
      "source": [
        "<a href=\"https://colab.research.google.com/github/dibyam1101/IE-Stocks-Price-Predictor/blob/main/Stocks_using_stacked_LSTM.ipynb\" target=\"_parent\"><img src=\"https://colab.research.google.com/assets/colab-badge.svg\" alt=\"Open In Colab\"/></a>"
      ]
    },
    {
      "cell_type": "code",
      "execution_count": 145,
      "metadata": {
        "colab": {
          "base_uri": "https://localhost:8080/"
        },
        "id": "V0MlIoiO3Vv8",
        "outputId": "c51e69d4-6f4c-4356-e21f-adc87f449d54"
      },
      "outputs": [
        {
          "output_type": "stream",
          "name": "stdout",
          "text": [
            "Requirement already satisfied: yfinance in /usr/local/lib/python3.7/dist-packages (0.1.69)\n",
            "Requirement already satisfied: requests>=2.26 in /usr/local/lib/python3.7/dist-packages (from yfinance) (2.27.1)\n",
            "Requirement already satisfied: pandas>=0.24 in /usr/local/lib/python3.7/dist-packages (from yfinance) (1.1.5)\n",
            "Requirement already satisfied: multitasking>=0.0.7 in /usr/local/lib/python3.7/dist-packages (from yfinance) (0.0.10)\n",
            "Requirement already satisfied: numpy>=1.15 in /usr/local/lib/python3.7/dist-packages (from yfinance) (1.19.5)\n",
            "Requirement already satisfied: lxml>=4.5.1 in /usr/local/lib/python3.7/dist-packages (from yfinance) (4.7.1)\n",
            "Requirement already satisfied: pytz>=2017.2 in /usr/local/lib/python3.7/dist-packages (from pandas>=0.24->yfinance) (2018.9)\n",
            "Requirement already satisfied: python-dateutil>=2.7.3 in /usr/local/lib/python3.7/dist-packages (from pandas>=0.24->yfinance) (2.8.2)\n",
            "Requirement already satisfied: six>=1.5 in /usr/local/lib/python3.7/dist-packages (from python-dateutil>=2.7.3->pandas>=0.24->yfinance) (1.15.0)\n",
            "Requirement already satisfied: idna<4,>=2.5 in /usr/local/lib/python3.7/dist-packages (from requests>=2.26->yfinance) (2.10)\n",
            "Requirement already satisfied: urllib3<1.27,>=1.21.1 in /usr/local/lib/python3.7/dist-packages (from requests>=2.26->yfinance) (1.24.3)\n",
            "Requirement already satisfied: certifi>=2017.4.17 in /usr/local/lib/python3.7/dist-packages (from requests>=2.26->yfinance) (2021.10.8)\n",
            "Requirement already satisfied: charset-normalizer~=2.0.0 in /usr/local/lib/python3.7/dist-packages (from requests>=2.26->yfinance) (2.0.10)\n"
          ]
        }
      ],
      "source": [
        "!pip install yfinance\n",
        "import yfinance as yf\n",
        "ticker = yf.Ticker('MSFT')"
      ]
    },
    {
      "cell_type": "code",
      "execution_count": 146,
      "metadata": {
        "id": "wIsCofNY3ayT"
      },
      "outputs": [],
      "source": [
        "df = ticker.history(period='max')\n",
        "df.to_csv(\"stocks.csv\")"
      ]
    },
    {
      "cell_type": "code",
      "execution_count": 147,
      "metadata": {
        "colab": {
          "base_uri": "https://localhost:8080/",
          "height": 237
        },
        "id": "yb4FjNxI31ji",
        "outputId": "3fa62ff9-57c9-4b48-b289-07069a238e1b"
      },
      "outputs": [
        {
          "output_type": "execute_result",
          "data": {
            "text/html": [
              "\n",
              "  <div id=\"df-6b0b36d7-f05e-451f-8306-2f09bf0612af\">\n",
              "    <div class=\"colab-df-container\">\n",
              "      <div>\n",
              "<style scoped>\n",
              "    .dataframe tbody tr th:only-of-type {\n",
              "        vertical-align: middle;\n",
              "    }\n",
              "\n",
              "    .dataframe tbody tr th {\n",
              "        vertical-align: top;\n",
              "    }\n",
              "\n",
              "    .dataframe thead th {\n",
              "        text-align: right;\n",
              "    }\n",
              "</style>\n",
              "<table border=\"1\" class=\"dataframe\">\n",
              "  <thead>\n",
              "    <tr style=\"text-align: right;\">\n",
              "      <th></th>\n",
              "      <th>Open</th>\n",
              "      <th>High</th>\n",
              "      <th>Low</th>\n",
              "      <th>Close</th>\n",
              "      <th>Volume</th>\n",
              "      <th>Dividends</th>\n",
              "      <th>Stock Splits</th>\n",
              "    </tr>\n",
              "    <tr>\n",
              "      <th>Date</th>\n",
              "      <th></th>\n",
              "      <th></th>\n",
              "      <th></th>\n",
              "      <th></th>\n",
              "      <th></th>\n",
              "      <th></th>\n",
              "      <th></th>\n",
              "    </tr>\n",
              "  </thead>\n",
              "  <tbody>\n",
              "    <tr>\n",
              "      <th>1986-03-13</th>\n",
              "      <td>0.055898</td>\n",
              "      <td>0.064119</td>\n",
              "      <td>0.055898</td>\n",
              "      <td>0.061378</td>\n",
              "      <td>1031788800</td>\n",
              "      <td>0.0</td>\n",
              "      <td>0.0</td>\n",
              "    </tr>\n",
              "    <tr>\n",
              "      <th>1986-03-14</th>\n",
              "      <td>0.061378</td>\n",
              "      <td>0.064667</td>\n",
              "      <td>0.061378</td>\n",
              "      <td>0.063570</td>\n",
              "      <td>308160000</td>\n",
              "      <td>0.0</td>\n",
              "      <td>0.0</td>\n",
              "    </tr>\n",
              "    <tr>\n",
              "      <th>1986-03-17</th>\n",
              "      <td>0.063570</td>\n",
              "      <td>0.065215</td>\n",
              "      <td>0.063570</td>\n",
              "      <td>0.064667</td>\n",
              "      <td>133171200</td>\n",
              "      <td>0.0</td>\n",
              "      <td>0.0</td>\n",
              "    </tr>\n",
              "    <tr>\n",
              "      <th>1986-03-18</th>\n",
              "      <td>0.064667</td>\n",
              "      <td>0.065215</td>\n",
              "      <td>0.062474</td>\n",
              "      <td>0.063022</td>\n",
              "      <td>67766400</td>\n",
              "      <td>0.0</td>\n",
              "      <td>0.0</td>\n",
              "    </tr>\n",
              "    <tr>\n",
              "      <th>1986-03-19</th>\n",
              "      <td>0.063022</td>\n",
              "      <td>0.063570</td>\n",
              "      <td>0.061378</td>\n",
              "      <td>0.061926</td>\n",
              "      <td>47894400</td>\n",
              "      <td>0.0</td>\n",
              "      <td>0.0</td>\n",
              "    </tr>\n",
              "  </tbody>\n",
              "</table>\n",
              "</div>\n",
              "      <button class=\"colab-df-convert\" onclick=\"convertToInteractive('df-6b0b36d7-f05e-451f-8306-2f09bf0612af')\"\n",
              "              title=\"Convert this dataframe to an interactive table.\"\n",
              "              style=\"display:none;\">\n",
              "        \n",
              "  <svg xmlns=\"http://www.w3.org/2000/svg\" height=\"24px\"viewBox=\"0 0 24 24\"\n",
              "       width=\"24px\">\n",
              "    <path d=\"M0 0h24v24H0V0z\" fill=\"none\"/>\n",
              "    <path d=\"M18.56 5.44l.94 2.06.94-2.06 2.06-.94-2.06-.94-.94-2.06-.94 2.06-2.06.94zm-11 1L8.5 8.5l.94-2.06 2.06-.94-2.06-.94L8.5 2.5l-.94 2.06-2.06.94zm10 10l.94 2.06.94-2.06 2.06-.94-2.06-.94-.94-2.06-.94 2.06-2.06.94z\"/><path d=\"M17.41 7.96l-1.37-1.37c-.4-.4-.92-.59-1.43-.59-.52 0-1.04.2-1.43.59L10.3 9.45l-7.72 7.72c-.78.78-.78 2.05 0 2.83L4 21.41c.39.39.9.59 1.41.59.51 0 1.02-.2 1.41-.59l7.78-7.78 2.81-2.81c.8-.78.8-2.07 0-2.86zM5.41 20L4 18.59l7.72-7.72 1.47 1.35L5.41 20z\"/>\n",
              "  </svg>\n",
              "      </button>\n",
              "      \n",
              "  <style>\n",
              "    .colab-df-container {\n",
              "      display:flex;\n",
              "      flex-wrap:wrap;\n",
              "      gap: 12px;\n",
              "    }\n",
              "\n",
              "    .colab-df-convert {\n",
              "      background-color: #E8F0FE;\n",
              "      border: none;\n",
              "      border-radius: 50%;\n",
              "      cursor: pointer;\n",
              "      display: none;\n",
              "      fill: #1967D2;\n",
              "      height: 32px;\n",
              "      padding: 0 0 0 0;\n",
              "      width: 32px;\n",
              "    }\n",
              "\n",
              "    .colab-df-convert:hover {\n",
              "      background-color: #E2EBFA;\n",
              "      box-shadow: 0px 1px 2px rgba(60, 64, 67, 0.3), 0px 1px 3px 1px rgba(60, 64, 67, 0.15);\n",
              "      fill: #174EA6;\n",
              "    }\n",
              "\n",
              "    [theme=dark] .colab-df-convert {\n",
              "      background-color: #3B4455;\n",
              "      fill: #D2E3FC;\n",
              "    }\n",
              "\n",
              "    [theme=dark] .colab-df-convert:hover {\n",
              "      background-color: #434B5C;\n",
              "      box-shadow: 0px 1px 3px 1px rgba(0, 0, 0, 0.15);\n",
              "      filter: drop-shadow(0px 1px 2px rgba(0, 0, 0, 0.3));\n",
              "      fill: #FFFFFF;\n",
              "    }\n",
              "  </style>\n",
              "\n",
              "      <script>\n",
              "        const buttonEl =\n",
              "          document.querySelector('#df-6b0b36d7-f05e-451f-8306-2f09bf0612af button.colab-df-convert');\n",
              "        buttonEl.style.display =\n",
              "          google.colab.kernel.accessAllowed ? 'block' : 'none';\n",
              "\n",
              "        async function convertToInteractive(key) {\n",
              "          const element = document.querySelector('#df-6b0b36d7-f05e-451f-8306-2f09bf0612af');\n",
              "          const dataTable =\n",
              "            await google.colab.kernel.invokeFunction('convertToInteractive',\n",
              "                                                     [key], {});\n",
              "          if (!dataTable) return;\n",
              "\n",
              "          const docLinkHtml = 'Like what you see? Visit the ' +\n",
              "            '<a target=\"_blank\" href=https://colab.research.google.com/notebooks/data_table.ipynb>data table notebook</a>'\n",
              "            + ' to learn more about interactive tables.';\n",
              "          element.innerHTML = '';\n",
              "          dataTable['output_type'] = 'display_data';\n",
              "          await google.colab.output.renderOutput(dataTable, element);\n",
              "          const docLink = document.createElement('div');\n",
              "          docLink.innerHTML = docLinkHtml;\n",
              "          element.appendChild(docLink);\n",
              "        }\n",
              "      </script>\n",
              "    </div>\n",
              "  </div>\n",
              "  "
            ],
            "text/plain": [
              "                Open      High       Low  ...      Volume  Dividends  Stock Splits\n",
              "Date                                      ...                                     \n",
              "1986-03-13  0.055898  0.064119  0.055898  ...  1031788800        0.0           0.0\n",
              "1986-03-14  0.061378  0.064667  0.061378  ...   308160000        0.0           0.0\n",
              "1986-03-17  0.063570  0.065215  0.063570  ...   133171200        0.0           0.0\n",
              "1986-03-18  0.064667  0.065215  0.062474  ...    67766400        0.0           0.0\n",
              "1986-03-19  0.063022  0.063570  0.061378  ...    47894400        0.0           0.0\n",
              "\n",
              "[5 rows x 7 columns]"
            ]
          },
          "metadata": {},
          "execution_count": 147
        }
      ],
      "source": [
        "import pandas as pd\n",
        "df.head()"
      ]
    },
    {
      "cell_type": "code",
      "execution_count": 148,
      "metadata": {
        "colab": {
          "base_uri": "https://localhost:8080/",
          "height": 237
        },
        "id": "HZAAUtfB4GPJ",
        "outputId": "be324ee4-ca55-4f5e-e86e-9dbebe31c9b0"
      },
      "outputs": [
        {
          "output_type": "execute_result",
          "data": {
            "text/html": [
              "\n",
              "  <div id=\"df-bab1a76a-688d-4edd-8b3d-87add1c74459\">\n",
              "    <div class=\"colab-df-container\">\n",
              "      <div>\n",
              "<style scoped>\n",
              "    .dataframe tbody tr th:only-of-type {\n",
              "        vertical-align: middle;\n",
              "    }\n",
              "\n",
              "    .dataframe tbody tr th {\n",
              "        vertical-align: top;\n",
              "    }\n",
              "\n",
              "    .dataframe thead th {\n",
              "        text-align: right;\n",
              "    }\n",
              "</style>\n",
              "<table border=\"1\" class=\"dataframe\">\n",
              "  <thead>\n",
              "    <tr style=\"text-align: right;\">\n",
              "      <th></th>\n",
              "      <th>Open</th>\n",
              "      <th>High</th>\n",
              "      <th>Low</th>\n",
              "      <th>Close</th>\n",
              "      <th>Volume</th>\n",
              "      <th>Dividends</th>\n",
              "      <th>Stock Splits</th>\n",
              "    </tr>\n",
              "    <tr>\n",
              "      <th>Date</th>\n",
              "      <th></th>\n",
              "      <th></th>\n",
              "      <th></th>\n",
              "      <th></th>\n",
              "      <th></th>\n",
              "      <th></th>\n",
              "      <th></th>\n",
              "    </tr>\n",
              "  </thead>\n",
              "  <tbody>\n",
              "    <tr>\n",
              "      <th>2022-01-14</th>\n",
              "      <td>304.250000</td>\n",
              "      <td>310.820007</td>\n",
              "      <td>303.750000</td>\n",
              "      <td>310.200012</td>\n",
              "      <td>39823500</td>\n",
              "      <td>0.0</td>\n",
              "      <td>0.0</td>\n",
              "    </tr>\n",
              "    <tr>\n",
              "      <th>2022-01-18</th>\n",
              "      <td>304.070007</td>\n",
              "      <td>309.799988</td>\n",
              "      <td>301.739990</td>\n",
              "      <td>302.649994</td>\n",
              "      <td>42333200</td>\n",
              "      <td>0.0</td>\n",
              "      <td>0.0</td>\n",
              "    </tr>\n",
              "    <tr>\n",
              "      <th>2022-01-19</th>\n",
              "      <td>306.290009</td>\n",
              "      <td>313.910004</td>\n",
              "      <td>302.700012</td>\n",
              "      <td>303.329987</td>\n",
              "      <td>45933900</td>\n",
              "      <td>0.0</td>\n",
              "      <td>0.0</td>\n",
              "    </tr>\n",
              "    <tr>\n",
              "      <th>2022-01-20</th>\n",
              "      <td>309.070007</td>\n",
              "      <td>311.649994</td>\n",
              "      <td>301.140015</td>\n",
              "      <td>301.600006</td>\n",
              "      <td>35380700</td>\n",
              "      <td>0.0</td>\n",
              "      <td>0.0</td>\n",
              "    </tr>\n",
              "    <tr>\n",
              "      <th>2022-01-21</th>\n",
              "      <td>302.690002</td>\n",
              "      <td>304.109985</td>\n",
              "      <td>295.609985</td>\n",
              "      <td>296.029999</td>\n",
              "      <td>57118300</td>\n",
              "      <td>0.0</td>\n",
              "      <td>0.0</td>\n",
              "    </tr>\n",
              "  </tbody>\n",
              "</table>\n",
              "</div>\n",
              "      <button class=\"colab-df-convert\" onclick=\"convertToInteractive('df-bab1a76a-688d-4edd-8b3d-87add1c74459')\"\n",
              "              title=\"Convert this dataframe to an interactive table.\"\n",
              "              style=\"display:none;\">\n",
              "        \n",
              "  <svg xmlns=\"http://www.w3.org/2000/svg\" height=\"24px\"viewBox=\"0 0 24 24\"\n",
              "       width=\"24px\">\n",
              "    <path d=\"M0 0h24v24H0V0z\" fill=\"none\"/>\n",
              "    <path d=\"M18.56 5.44l.94 2.06.94-2.06 2.06-.94-2.06-.94-.94-2.06-.94 2.06-2.06.94zm-11 1L8.5 8.5l.94-2.06 2.06-.94-2.06-.94L8.5 2.5l-.94 2.06-2.06.94zm10 10l.94 2.06.94-2.06 2.06-.94-2.06-.94-.94-2.06-.94 2.06-2.06.94z\"/><path d=\"M17.41 7.96l-1.37-1.37c-.4-.4-.92-.59-1.43-.59-.52 0-1.04.2-1.43.59L10.3 9.45l-7.72 7.72c-.78.78-.78 2.05 0 2.83L4 21.41c.39.39.9.59 1.41.59.51 0 1.02-.2 1.41-.59l7.78-7.78 2.81-2.81c.8-.78.8-2.07 0-2.86zM5.41 20L4 18.59l7.72-7.72 1.47 1.35L5.41 20z\"/>\n",
              "  </svg>\n",
              "      </button>\n",
              "      \n",
              "  <style>\n",
              "    .colab-df-container {\n",
              "      display:flex;\n",
              "      flex-wrap:wrap;\n",
              "      gap: 12px;\n",
              "    }\n",
              "\n",
              "    .colab-df-convert {\n",
              "      background-color: #E8F0FE;\n",
              "      border: none;\n",
              "      border-radius: 50%;\n",
              "      cursor: pointer;\n",
              "      display: none;\n",
              "      fill: #1967D2;\n",
              "      height: 32px;\n",
              "      padding: 0 0 0 0;\n",
              "      width: 32px;\n",
              "    }\n",
              "\n",
              "    .colab-df-convert:hover {\n",
              "      background-color: #E2EBFA;\n",
              "      box-shadow: 0px 1px 2px rgba(60, 64, 67, 0.3), 0px 1px 3px 1px rgba(60, 64, 67, 0.15);\n",
              "      fill: #174EA6;\n",
              "    }\n",
              "\n",
              "    [theme=dark] .colab-df-convert {\n",
              "      background-color: #3B4455;\n",
              "      fill: #D2E3FC;\n",
              "    }\n",
              "\n",
              "    [theme=dark] .colab-df-convert:hover {\n",
              "      background-color: #434B5C;\n",
              "      box-shadow: 0px 1px 3px 1px rgba(0, 0, 0, 0.15);\n",
              "      filter: drop-shadow(0px 1px 2px rgba(0, 0, 0, 0.3));\n",
              "      fill: #FFFFFF;\n",
              "    }\n",
              "  </style>\n",
              "\n",
              "      <script>\n",
              "        const buttonEl =\n",
              "          document.querySelector('#df-bab1a76a-688d-4edd-8b3d-87add1c74459 button.colab-df-convert');\n",
              "        buttonEl.style.display =\n",
              "          google.colab.kernel.accessAllowed ? 'block' : 'none';\n",
              "\n",
              "        async function convertToInteractive(key) {\n",
              "          const element = document.querySelector('#df-bab1a76a-688d-4edd-8b3d-87add1c74459');\n",
              "          const dataTable =\n",
              "            await google.colab.kernel.invokeFunction('convertToInteractive',\n",
              "                                                     [key], {});\n",
              "          if (!dataTable) return;\n",
              "\n",
              "          const docLinkHtml = 'Like what you see? Visit the ' +\n",
              "            '<a target=\"_blank\" href=https://colab.research.google.com/notebooks/data_table.ipynb>data table notebook</a>'\n",
              "            + ' to learn more about interactive tables.';\n",
              "          element.innerHTML = '';\n",
              "          dataTable['output_type'] = 'display_data';\n",
              "          await google.colab.output.renderOutput(dataTable, element);\n",
              "          const docLink = document.createElement('div');\n",
              "          docLink.innerHTML = docLinkHtml;\n",
              "          element.appendChild(docLink);\n",
              "        }\n",
              "      </script>\n",
              "    </div>\n",
              "  </div>\n",
              "  "
            ],
            "text/plain": [
              "                  Open        High  ...  Dividends  Stock Splits\n",
              "Date                                ...                         \n",
              "2022-01-14  304.250000  310.820007  ...        0.0           0.0\n",
              "2022-01-18  304.070007  309.799988  ...        0.0           0.0\n",
              "2022-01-19  306.290009  313.910004  ...        0.0           0.0\n",
              "2022-01-20  309.070007  311.649994  ...        0.0           0.0\n",
              "2022-01-21  302.690002  304.109985  ...        0.0           0.0\n",
              "\n",
              "[5 rows x 7 columns]"
            ]
          },
          "metadata": {},
          "execution_count": 148
        }
      ],
      "source": [
        "df.tail()"
      ]
    },
    {
      "cell_type": "code",
      "execution_count": 149,
      "metadata": {
        "id": "Ht7CqJYk4O_O"
      },
      "outputs": [],
      "source": [
        "df1 = df.reset_index()['Close']\n",
        "df1 = df1\n",
        "df1\n",
        "df2 = pd.DataFrame(df1)"
      ]
    },
    {
      "cell_type": "code",
      "execution_count": 150,
      "metadata": {
        "colab": {
          "base_uri": "https://localhost:8080/",
          "height": 284
        },
        "id": "yLvRT0SM4V4z",
        "outputId": "ae71ea12-dc8d-4c1a-fe2c-42bbe608166f"
      },
      "outputs": [
        {
          "output_type": "execute_result",
          "data": {
            "text/plain": [
              "<matplotlib.axes._subplots.AxesSubplot at 0x7f7a17c547d0>"
            ]
          },
          "metadata": {},
          "execution_count": 150
        },
        {
          "output_type": "display_data",
          "data": {
            "image/png": "[encoded data removed]",
            "text/plain": [
              "<Figure size 432x288 with 1 Axes>"
            ]
          },
          "metadata": {
            "needs_background": "light"
          }
        }
      ],
      "source": [
        "df1.plot()"
      ]
    },
    {
      "cell_type": "code",
      "execution_count": 151,
      "metadata": {
        "colab": {
          "base_uri": "https://localhost:8080/"
        },
        "id": "mhLIhK7P4Wkx",
        "outputId": "624f35ba-8d12-4085-e1d4-22e0f392f42f"
      },
      "outputs": [
        {
          "output_type": "execute_result",
          "data": {
            "text/plain": [
              "array([[1.27790406e-05],\n",
              "       [1.91686423e-05],\n",
              "       [2.23652513e-05],\n",
              "       ...,\n",
              "       [8.84041242e-01],\n",
              "       [8.78998346e-01],\n",
              "       [8.62761766e-01]])"
            ]
          },
          "metadata": {},
          "execution_count": 151
        }
      ],
      "source": [
        "import numpy as np\n",
        "from sklearn.preprocessing import MinMaxScaler\n",
        "scaler = MinMaxScaler(feature_range=(0, 1))\n",
        "df1 = scaler.fit_transform(np.array(df1).reshape(-1, 1))\n",
        "df1"
      ]
    },
    {
      "cell_type": "code",
      "source": [
        "training_size=int(len(df1)*0.95)\n",
        "test_size=len(df1)-training_size\n",
        "train_data,test_data=df1[0:training_size,:],df1[training_size:len(df1),:1]"
      ],
      "metadata": {
        "id": "MrppCc7rZHuP"
      },
      "execution_count": 152,
      "outputs": []
    },
    {
      "cell_type": "code",
      "source": [
        "len(test_data) + len(train_data), len(df1)"
      ],
      "metadata": {
        "colab": {
          "base_uri": "https://localhost:8080/"
        },
        "id": "sh4_qAxiZHzo",
        "outputId": "0db877f6-a9e7-45d9-d360-c3e8abce5f60"
      },
      "execution_count": 153,
      "outputs": [
        {
          "output_type": "execute_result",
          "data": {
            "text/plain": [
              "(9040, 9040)"
            ]
          },
          "metadata": {},
          "execution_count": 153
        }
      ]
    },
    {
      "cell_type": "code",
      "execution_count": 154,
      "metadata": {
        "id": "HKJe1pli5Isz"
      },
      "outputs": [],
      "source": [
        "import numpy\n",
        "# convert an array of values into a dataset matrix\n",
        "def create_dataset(dataset, time_step=1):\n",
        "\tdataX, dataY = [], []\n",
        "\tfor i in range(len(dataset)-time_step-1):\n",
        "\t\ta = dataset[i:(i+time_step), 0]   ###i=0, 0,1,2,3-----99   100 \n",
        "\t\tdataX.append(a)\n",
        "\t\tdataY.append(dataset[i + time_step, 0])\n",
        "\treturn numpy.array(dataX), numpy.array(dataY)"
      ]
    },
    {
      "cell_type": "code",
      "execution_count": null,
      "metadata": {
        "id": "wSJRAoY-Cy9y"
      },
      "outputs": [],
      "source": [
        "time_step = 100\n",
        "X_train, y_train = create_dataset(train_data, time_step)\n",
        "X_test, y_test = create_dataset(test_data, time_step)\n",
        "len(X_test), len(y_test)\n",
        "y_test"
      ]
    },
    {
      "cell_type": "code",
      "execution_count": 156,
      "metadata": {
        "id": "n7_m0Pr7C5O3"
      },
      "outputs": [],
      "source": [
        "from tensorflow.keras.models import Sequential\n",
        "from tensorflow.keras.layers import LSTM, Dense, Flatten"
      ]
    },
    {
      "cell_type": "code",
      "source": [
        "# reshape input to be [samples, time steps, features] which is required for LSTM\n",
        "X_train =X_train.reshape(X_train.shape[0],X_train.shape[1] , 1)\n",
        "X_test = X_test.reshape(X_test.shape[0],X_test.shape[1] , 1)\n",
        "X_train.shape, y_train.shape"
      ],
      "metadata": {
        "colab": {
          "base_uri": "https://localhost:8080/"
        },
        "id": "lOtcxQHXZUif",
        "outputId": "a40bfe02-d470-4db3-ee36-dec03ae9a154"
      },
      "execution_count": 157,
      "outputs": [
        {
          "output_type": "execute_result",
          "data": {
            "text/plain": [
              "((8487, 100, 1), (8487,))"
            ]
          },
          "metadata": {},
          "execution_count": 157
        }
      ]
    },
    {
      "cell_type": "code",
      "execution_count": 158,
      "metadata": {
        "id": "aMetUrCRC6V3"
      },
      "outputs": [],
      "source": [
        "model = Sequential()"
      ]
    },
    {
      "cell_type": "code",
      "execution_count": 159,
      "metadata": {
        "id": "_YauHXbjDDvX"
      },
      "outputs": [],
      "source": [
        "model=Sequential()\n",
        "model.add(LSTM(50,return_sequences=True,input_shape=(100,1)))\n",
        "model.add(LSTM(50,return_sequences=True))\n",
        "model.add(LSTM(50))\n",
        "model.add(Dense(1))\n",
        "model.compile(loss='mean_squared_error',optimizer='adam')"
      ]
    },
    {
      "cell_type": "code",
      "execution_count": 160,
      "metadata": {
        "id": "ClyM-OsiDshd"
      },
      "outputs": [],
      "source": [
        "model.compile(optimizer = 'adam', loss = 'mse')"
      ]
    },
    {
      "cell_type": "code",
      "execution_count": 160,
      "metadata": {
        "id": "6HhmwqSbD2uM"
      },
      "outputs": [],
      "source": [
        ""
      ]
    },
    {
      "cell_type": "code",
      "execution_count": 161,
      "metadata": {
        "colab": {
          "base_uri": "https://localhost:8080/"
        },
        "id": "Cczv9MJsD59A",
        "outputId": "6c239d89-4a4b-401b-c3d8-f681fddebbb7"
      },
      "outputs": [
        {
          "output_type": "stream",
          "name": "stdout",
          "text": [
            "266/266 [==============================] - 47s 155ms/step - loss: 2.3288e-04 - val_loss: 0.0032\n"
          ]
        },
        {
          "output_type": "execute_result",
          "data": {
            "text/plain": [
              "<keras.callbacks.History at 0x7f7997c93350>"
            ]
          },
          "metadata": {},
          "execution_count": 161
        }
      ],
      "source": [
        "model.fit(X_train, y_train, validation_data=(X_test, y_test), epochs=1, verbose=1)"
      ]
    },
    {
      "cell_type": "code",
      "execution_count": 161,
      "metadata": {
        "id": "JqgM5_J8GXsR"
      },
      "outputs": [],
      "source": [
        ""
      ]
    },
    {
      "cell_type": "code",
      "execution_count": 162,
      "metadata": {
        "id": "AWgvmH_tG0z-"
      },
      "outputs": [],
      "source": [
        "train_predict=model.predict(X_train)\n",
        "test_predict=model.predict(X_test)\n",
        "##Transformback to original form\n",
        "train_predict=scaler.inverse_transform(train_predict)\n",
        "test_predict=scaler.inverse_transform(test_predict)"
      ]
    },
    {
      "cell_type": "code",
      "execution_count": 163,
      "metadata": {
        "id": "o1OsgymRHEyq"
      },
      "outputs": [],
      "source": [
        "import matplotlib.pyplot as plt"
      ]
    },
    {
      "cell_type": "code",
      "source": [
        "print(len(train_predict), len(test_predict), len(df1))"
      ],
      "metadata": {
        "colab": {
          "base_uri": "https://localhost:8080/"
        },
        "id": "7oLoVP_nUKR3",
        "outputId": "c33ef745-e812-4789-a5bf-7374857ae7ca"
      },
      "execution_count": 164,
      "outputs": [
        {
          "output_type": "stream",
          "name": "stdout",
          "text": [
            "8487 351 9040\n"
          ]
        }
      ]
    },
    {
      "cell_type": "code",
      "execution_count": 165,
      "metadata": {
        "id": "wBkQNnAYHN6l",
        "colab": {
          "base_uri": "https://localhost:8080/",
          "height": 720
        },
        "outputId": "2d4c0f17-90a4-4108-d168-757f5ff9415b"
      },
      "outputs": [
        {
          "output_type": "stream",
          "name": "stderr",
          "text": [
            "/usr/local/lib/python3.7/dist-packages/ipykernel_launcher.py:6: SettingWithCopyWarning: \n",
            "A value is trying to be set on a copy of a slice from a DataFrame.\n",
            "Try using .loc[row_indexer,col_indexer] = value instead\n",
            "\n",
            "See the caveats in the documentation: https://pandas.pydata.org/pandas-docs/stable/user_guide/indexing.html#returning-a-view-versus-a-copy\n",
            "  \n"
          ]
        },
        {
          "output_type": "execute_result",
          "data": {
            "text/plain": [
              "<matplotlib.legend.Legend at 0x7f7a178c7ad0>"
            ]
          },
          "metadata": {},
          "execution_count": 165
        },
        {
          "output_type": "display_data",
          "data": {
            "image/png": "[encoded data removed]",
            "text/plain": [
              "<Figure size 1584x720 with 1 Axes>"
            ]
          },
          "metadata": {
            "needs_background": "light"
          }
        }
      ],
      "source": [
        "len(test_predict)\n",
        "l = len(df2) - len(test_predict)\n",
        "test = df2[l:]\n",
        "train = df2[:l]\n",
        "len(test)\n",
        "test['Predictions'] = test_predict\n",
        "plt.figure(figsize=(22, 10))\n",
        "plt.plot(test[['Predictions', 'Close']])\n",
        "plt.plot(train.Close)\n",
        "plt.legend(['Predicted', 'Actual', 'Actual-Train'])\n",
        "\n"
      ]
    },
    {
      "cell_type": "code",
      "source": [
        "type(test_predict)\n",
        "(test_predict)"
      ],
      "metadata": {
        "id": "QVZpTyoA5kjM"
      },
      "execution_count": null,
      "outputs": []
    },
    {
      "cell_type": "code",
      "source": [
        "pred = []\n",
        "\n",
        "prediction_data = [i[0] for i in test_predict[::-1][:100][::-1]]\n",
        "i = 0\n",
        "newScaler = MinMaxScaler(feature_range=(0, 1))\n",
        "\n",
        "while i < 500:\n",
        "\n",
        "  new_prediction_data = newScaler.fit_transform(np.array(prediction_data).reshape(-1, 1))\n",
        "  predicted_value = newScaler.inverse_transform(model.predict(np.array(new_prediction_data).reshape((1, 100, 1))))\n",
        "  pred.append(predicted_value[0][0])\n",
        "  # print(predicted_value)\n",
        "  prediction_data = prediction_data[1:]\n",
        "  prediction_data.append(predicted_value[0][0])\n",
        "  \n",
        "  i = i+1\n",
        "\n",
        " \n",
        "\n",
        "\n"
      ],
      "metadata": {
        "id": "YbAq27SKWuHI"
      },
      "execution_count": 167,
      "outputs": []
    },
    {
      "cell_type": "code",
      "source": [
        "len(pred), pred"
      ],
      "metadata": {
        "id": "wev80giD_a3h"
      },
      "execution_count": null,
      "outputs": []
    },
    {
      "cell_type": "code",
      "source": [
        "future_pred = pd.DataFrame(df2)"
      ],
      "metadata": {
        "id": "nuVtofOF2lT0"
      },
      "execution_count": 169,
      "outputs": []
    },
    {
      "cell_type": "code",
      "source": [
        "future_pred\n",
        "for i in range(500):\n",
        "  future_pred.loc[future_pred.shape[0]] = [None]\n",
        "future_pred"
      ],
      "metadata": {
        "id": "dSg0DNad205H",
        "colab": {
          "base_uri": "https://localhost:8080/",
          "height": 423
        },
        "outputId": "6f418b0e-4d19-4832-82ec-48c9cd23f3ee"
      },
      "execution_count": 170,
      "outputs": [
        {
          "output_type": "execute_result",
          "data": {
            "text/html": [
              "\n",
              "  <div id=\"df-24de77de-3955-4f25-a73c-48779c91075c\">\n",
              "    <div class=\"colab-df-container\">\n",
              "      <div>\n",
              "<style scoped>\n",
              "    .dataframe tbody tr th:only-of-type {\n",
              "        vertical-align: middle;\n",
              "    }\n",
              "\n",
              "    .dataframe tbody tr th {\n",
              "        vertical-align: top;\n",
              "    }\n",
              "\n",
              "    .dataframe thead th {\n",
              "        text-align: right;\n",
              "    }\n",
              "</style>\n",
              "<table border=\"1\" class=\"dataframe\">\n",
              "  <thead>\n",
              "    <tr style=\"text-align: right;\">\n",
              "      <th></th>\n",
              "      <th>Close</th>\n",
              "    </tr>\n",
              "  </thead>\n",
              "  <tbody>\n",
              "    <tr>\n",
              "      <th>0</th>\n",
              "      <td>0.061378</td>\n",
              "    </tr>\n",
              "    <tr>\n",
              "      <th>1</th>\n",
              "      <td>0.063570</td>\n",
              "    </tr>\n",
              "    <tr>\n",
              "      <th>2</th>\n",
              "      <td>0.064667</td>\n",
              "    </tr>\n",
              "    <tr>\n",
              "      <th>3</th>\n",
              "      <td>0.063022</td>\n",
              "    </tr>\n",
              "    <tr>\n",
              "      <th>4</th>\n",
              "      <td>0.061926</td>\n",
              "    </tr>\n",
              "    <tr>\n",
              "      <th>...</th>\n",
              "      <td>...</td>\n",
              "    </tr>\n",
              "    <tr>\n",
              "      <th>9535</th>\n",
              "      <td>NaN</td>\n",
              "    </tr>\n",
              "    <tr>\n",
              "      <th>9536</th>\n",
              "      <td>NaN</td>\n",
              "    </tr>\n",
              "    <tr>\n",
              "      <th>9537</th>\n",
              "      <td>NaN</td>\n",
              "    </tr>\n",
              "    <tr>\n",
              "      <th>9538</th>\n",
              "      <td>NaN</td>\n",
              "    </tr>\n",
              "    <tr>\n",
              "      <th>9539</th>\n",
              "      <td>NaN</td>\n",
              "    </tr>\n",
              "  </tbody>\n",
              "</table>\n",
              "<p>9540 rows × 1 columns</p>\n",
              "</div>\n",
              "      <button class=\"colab-df-convert\" onclick=\"convertToInteractive('df-24de77de-3955-4f25-a73c-48779c91075c')\"\n",
              "              title=\"Convert this dataframe to an interactive table.\"\n",
              "              style=\"display:none;\">\n",
              "        \n",
              "  <svg xmlns=\"http://www.w3.org/2000/svg\" height=\"24px\"viewBox=\"0 0 24 24\"\n",
              "       width=\"24px\">\n",
              "    <path d=\"M0 0h24v24H0V0z\" fill=\"none\"/>\n",
              "    <path d=\"M18.56 5.44l.94 2.06.94-2.06 2.06-.94-2.06-.94-.94-2.06-.94 2.06-2.06.94zm-11 1L8.5 8.5l.94-2.06 2.06-.94-2.06-.94L8.5 2.5l-.94 2.06-2.06.94zm10 10l.94 2.06.94-2.06 2.06-.94-2.06-.94-.94-2.06-.94 2.06-2.06.94z\"/><path d=\"M17.41 7.96l-1.37-1.37c-.4-.4-.92-.59-1.43-.59-.52 0-1.04.2-1.43.59L10.3 9.45l-7.72 7.72c-.78.78-.78 2.05 0 2.83L4 21.41c.39.39.9.59 1.41.59.51 0 1.02-.2 1.41-.59l7.78-7.78 2.81-2.81c.8-.78.8-2.07 0-2.86zM5.41 20L4 18.59l7.72-7.72 1.47 1.35L5.41 20z\"/>\n",
              "  </svg>\n",
              "      </button>\n",
              "      \n",
              "  <style>\n",
              "    .colab-df-container {\n",
              "      display:flex;\n",
              "      flex-wrap:wrap;\n",
              "      gap: 12px;\n",
              "    }\n",
              "\n",
              "    .colab-df-convert {\n",
              "      background-color: #E8F0FE;\n",
              "      border: none;\n",
              "      border-radius: 50%;\n",
              "      cursor: pointer;\n",
              "      display: none;\n",
              "      fill: #1967D2;\n",
              "      height: 32px;\n",
              "      padding: 0 0 0 0;\n",
              "      width: 32px;\n",
              "    }\n",
              "\n",
              "    .colab-df-convert:hover {\n",
              "      background-color: #E2EBFA;\n",
              "      box-shadow: 0px 1px 2px rgba(60, 64, 67, 0.3), 0px 1px 3px 1px rgba(60, 64, 67, 0.15);\n",
              "      fill: #174EA6;\n",
              "    }\n",
              "\n",
              "    [theme=dark] .colab-df-convert {\n",
              "      background-color: #3B4455;\n",
              "      fill: #D2E3FC;\n",
              "    }\n",
              "\n",
              "    [theme=dark] .colab-df-convert:hover {\n",
              "      background-color: #434B5C;\n",
              "      box-shadow: 0px 1px 3px 1px rgba(0, 0, 0, 0.15);\n",
              "      filter: drop-shadow(0px 1px 2px rgba(0, 0, 0, 0.3));\n",
              "      fill: #FFFFFF;\n",
              "    }\n",
              "  </style>\n",
              "\n",
              "      <script>\n",
              "        const buttonEl =\n",
              "          document.querySelector('#df-24de77de-3955-4f25-a73c-48779c91075c button.colab-df-convert');\n",
              "        buttonEl.style.display =\n",
              "          google.colab.kernel.accessAllowed ? 'block' : 'none';\n",
              "\n",
              "        async function convertToInteractive(key) {\n",
              "          const element = document.querySelector('#df-24de77de-3955-4f25-a73c-48779c91075c');\n",
              "          const dataTable =\n",
              "            await google.colab.kernel.invokeFunction('convertToInteractive',\n",
              "                                                     [key], {});\n",
              "          if (!dataTable) return;\n",
              "\n",
              "          const docLinkHtml = 'Like what you see? Visit the ' +\n",
              "            '<a target=\"_blank\" href=https://colab.research.google.com/notebooks/data_table.ipynb>data table notebook</a>'\n",
              "            + ' to learn more about interactive tables.';\n",
              "          element.innerHTML = '';\n",
              "          dataTable['output_type'] = 'display_data';\n",
              "          await google.colab.output.renderOutput(dataTable, element);\n",
              "          const docLink = document.createElement('div');\n",
              "          docLink.innerHTML = docLinkHtml;\n",
              "          element.appendChild(docLink);\n",
              "        }\n",
              "      </script>\n",
              "    </div>\n",
              "  </div>\n",
              "  "
            ],
            "text/plain": [
              "         Close\n",
              "0     0.061378\n",
              "1     0.063570\n",
              "2     0.064667\n",
              "3     0.063022\n",
              "4     0.061926\n",
              "...        ...\n",
              "9535       NaN\n",
              "9536       NaN\n",
              "9537       NaN\n",
              "9538       NaN\n",
              "9539       NaN\n",
              "\n",
              "[9540 rows x 1 columns]"
            ]
          },
          "metadata": {},
          "execution_count": 170
        }
      ]
    },
    {
      "cell_type": "code",
      "source": [
        "len(future_pred), len(df2)"
      ],
      "metadata": {
        "colab": {
          "base_uri": "https://localhost:8080/"
        },
        "id": "d27llQo83Cmm",
        "outputId": "ac312159-4525-4295-ff91-7635f6c43cf7"
      },
      "execution_count": 171,
      "outputs": [
        {
          "output_type": "execute_result",
          "data": {
            "text/plain": [
              "(9540, 9040)"
            ]
          },
          "metadata": {},
          "execution_count": 171
        }
      ]
    },
    {
      "cell_type": "code",
      "source": [
        "abcd = future_pred[(len(df2)):]\n"
      ],
      "metadata": {
        "id": "DOOvnhr23fWP"
      },
      "execution_count": 172,
      "outputs": []
    },
    {
      "cell_type": "code",
      "source": [
        "abcd['predictions'] = pred\n"
      ],
      "metadata": {
        "colab": {
          "base_uri": "https://localhost:8080/"
        },
        "id": "fo9n7HFa3mI8",
        "outputId": "e1083c96-d3a2-46ca-c8fa-117eb61706d3"
      },
      "execution_count": 173,
      "outputs": [
        {
          "output_type": "stream",
          "name": "stderr",
          "text": [
            "/usr/local/lib/python3.7/dist-packages/ipykernel_launcher.py:1: SettingWithCopyWarning: \n",
            "A value is trying to be set on a copy of a slice from a DataFrame.\n",
            "Try using .loc[row_indexer,col_indexer] = value instead\n",
            "\n",
            "See the caveats in the documentation: https://pandas.pydata.org/pandas-docs/stable/user_guide/indexing.html#returning-a-view-versus-a-copy\n",
            "  \"\"\"Entry point for launching an IPython kernel.\n"
          ]
        }
      ]
    },
    {
      "cell_type": "code",
      "source": [
        "abcd"
      ],
      "metadata": {
        "colab": {
          "base_uri": "https://localhost:8080/",
          "height": 423
        },
        "id": "20mcO33W3wTZ",
        "outputId": "715b2830-e23a-4f93-9072-19b259992a2e"
      },
      "execution_count": 174,
      "outputs": [
        {
          "output_type": "execute_result",
          "data": {
            "text/html": [
              "\n",
              "  <div id=\"df-79c84f5a-995d-4b09-a2ff-04a62359f26e\">\n",
              "    <div class=\"colab-df-container\">\n",
              "      <div>\n",
              "<style scoped>\n",
              "    .dataframe tbody tr th:only-of-type {\n",
              "        vertical-align: middle;\n",
              "    }\n",
              "\n",
              "    .dataframe tbody tr th {\n",
              "        vertical-align: top;\n",
              "    }\n",
              "\n",
              "    .dataframe thead th {\n",
              "        text-align: right;\n",
              "    }\n",
              "</style>\n",
              "<table border=\"1\" class=\"dataframe\">\n",
              "  <thead>\n",
              "    <tr style=\"text-align: right;\">\n",
              "      <th></th>\n",
              "      <th>Close</th>\n",
              "      <th>predictions</th>\n",
              "    </tr>\n",
              "  </thead>\n",
              "  <tbody>\n",
              "    <tr>\n",
              "      <th>9040</th>\n",
              "      <td>NaN</td>\n",
              "      <td>299.878479</td>\n",
              "    </tr>\n",
              "    <tr>\n",
              "      <th>9041</th>\n",
              "      <td>NaN</td>\n",
              "      <td>299.688110</td>\n",
              "    </tr>\n",
              "    <tr>\n",
              "      <th>9042</th>\n",
              "      <td>NaN</td>\n",
              "      <td>299.494263</td>\n",
              "    </tr>\n",
              "    <tr>\n",
              "      <th>9043</th>\n",
              "      <td>NaN</td>\n",
              "      <td>299.305634</td>\n",
              "    </tr>\n",
              "    <tr>\n",
              "      <th>9044</th>\n",
              "      <td>NaN</td>\n",
              "      <td>299.127106</td>\n",
              "    </tr>\n",
              "    <tr>\n",
              "      <th>...</th>\n",
              "      <td>...</td>\n",
              "      <td>...</td>\n",
              "    </tr>\n",
              "    <tr>\n",
              "      <th>9535</th>\n",
              "      <td>NaN</td>\n",
              "      <td>296.542847</td>\n",
              "    </tr>\n",
              "    <tr>\n",
              "      <th>9536</th>\n",
              "      <td>NaN</td>\n",
              "      <td>296.542877</td>\n",
              "    </tr>\n",
              "    <tr>\n",
              "      <th>9537</th>\n",
              "      <td>NaN</td>\n",
              "      <td>296.542877</td>\n",
              "    </tr>\n",
              "    <tr>\n",
              "      <th>9538</th>\n",
              "      <td>NaN</td>\n",
              "      <td>296.542877</td>\n",
              "    </tr>\n",
              "    <tr>\n",
              "      <th>9539</th>\n",
              "      <td>NaN</td>\n",
              "      <td>296.542877</td>\n",
              "    </tr>\n",
              "  </tbody>\n",
              "</table>\n",
              "<p>500 rows × 2 columns</p>\n",
              "</div>\n",
              "      <button class=\"colab-df-convert\" onclick=\"convertToInteractive('df-79c84f5a-995d-4b09-a2ff-04a62359f26e')\"\n",
              "              title=\"Convert this dataframe to an interactive table.\"\n",
              "              style=\"display:none;\">\n",
              "        \n",
              "  <svg xmlns=\"http://www.w3.org/2000/svg\" height=\"24px\"viewBox=\"0 0 24 24\"\n",
              "       width=\"24px\">\n",
              "    <path d=\"M0 0h24v24H0V0z\" fill=\"none\"/>\n",
              "    <path d=\"M18.56 5.44l.94 2.06.94-2.06 2.06-.94-2.06-.94-.94-2.06-.94 2.06-2.06.94zm-11 1L8.5 8.5l.94-2.06 2.06-.94-2.06-.94L8.5 2.5l-.94 2.06-2.06.94zm10 10l.94 2.06.94-2.06 2.06-.94-2.06-.94-.94-2.06-.94 2.06-2.06.94z\"/><path d=\"M17.41 7.96l-1.37-1.37c-.4-.4-.92-.59-1.43-.59-.52 0-1.04.2-1.43.59L10.3 9.45l-7.72 7.72c-.78.78-.78 2.05 0 2.83L4 21.41c.39.39.9.59 1.41.59.51 0 1.02-.2 1.41-.59l7.78-7.78 2.81-2.81c.8-.78.8-2.07 0-2.86zM5.41 20L4 18.59l7.72-7.72 1.47 1.35L5.41 20z\"/>\n",
              "  </svg>\n",
              "      </button>\n",
              "      \n",
              "  <style>\n",
              "    .colab-df-container {\n",
              "      display:flex;\n",
              "      flex-wrap:wrap;\n",
              "      gap: 12px;\n",
              "    }\n",
              "\n",
              "    .colab-df-convert {\n",
              "      background-color: #E8F0FE;\n",
              "      border: none;\n",
              "      border-radius: 50%;\n",
              "      cursor: pointer;\n",
              "      display: none;\n",
              "      fill: #1967D2;\n",
              "      height: 32px;\n",
              "      padding: 0 0 0 0;\n",
              "      width: 32px;\n",
              "    }\n",
              "\n",
              "    .colab-df-convert:hover {\n",
              "      background-color: #E2EBFA;\n",
              "      box-shadow: 0px 1px 2px rgba(60, 64, 67, 0.3), 0px 1px 3px 1px rgba(60, 64, 67, 0.15);\n",
              "      fill: #174EA6;\n",
              "    }\n",
              "\n",
              "    [theme=dark] .colab-df-convert {\n",
              "      background-color: #3B4455;\n",
              "      fill: #D2E3FC;\n",
              "    }\n",
              "\n",
              "    [theme=dark] .colab-df-convert:hover {\n",
              "      background-color: #434B5C;\n",
              "      box-shadow: 0px 1px 3px 1px rgba(0, 0, 0, 0.15);\n",
              "      filter: drop-shadow(0px 1px 2px rgba(0, 0, 0, 0.3));\n",
              "      fill: #FFFFFF;\n",
              "    }\n",
              "  </style>\n",
              "\n",
              "      <script>\n",
              "        const buttonEl =\n",
              "          document.querySelector('#df-79c84f5a-995d-4b09-a2ff-04a62359f26e button.colab-df-convert');\n",
              "        buttonEl.style.display =\n",
              "          google.colab.kernel.accessAllowed ? 'block' : 'none';\n",
              "\n",
              "        async function convertToInteractive(key) {\n",
              "          const element = document.querySelector('#df-79c84f5a-995d-4b09-a2ff-04a62359f26e');\n",
              "          const dataTable =\n",
              "            await google.colab.kernel.invokeFunction('convertToInteractive',\n",
              "                                                     [key], {});\n",
              "          if (!dataTable) return;\n",
              "\n",
              "          const docLinkHtml = 'Like what you see? Visit the ' +\n",
              "            '<a target=\"_blank\" href=https://colab.research.google.com/notebooks/data_table.ipynb>data table notebook</a>'\n",
              "            + ' to learn more about interactive tables.';\n",
              "          element.innerHTML = '';\n",
              "          dataTable['output_type'] = 'display_data';\n",
              "          await google.colab.output.renderOutput(dataTable, element);\n",
              "          const docLink = document.createElement('div');\n",
              "          docLink.innerHTML = docLinkHtml;\n",
              "          element.appendChild(docLink);\n",
              "        }\n",
              "      </script>\n",
              "    </div>\n",
              "  </div>\n",
              "  "
            ],
            "text/plain": [
              "      Close  predictions\n",
              "9040    NaN   299.878479\n",
              "9041    NaN   299.688110\n",
              "9042    NaN   299.494263\n",
              "9043    NaN   299.305634\n",
              "9044    NaN   299.127106\n",
              "...     ...          ...\n",
              "9535    NaN   296.542847\n",
              "9536    NaN   296.542877\n",
              "9537    NaN   296.542877\n",
              "9538    NaN   296.542877\n",
              "9539    NaN   296.542877\n",
              "\n",
              "[500 rows x 2 columns]"
            ]
          },
          "metadata": {},
          "execution_count": 174
        }
      ]
    },
    {
      "cell_type": "code",
      "source": [
        "pred"
      ],
      "metadata": {
        "colab": {
          "base_uri": "https://localhost:8080/"
        },
        "id": "xCOquVVkCWzg",
        "outputId": "8073d3c2-3fd9-44c9-b5f1-420e6f3b5a2b"
      },
      "execution_count": 175,
      "outputs": [
        {
          "output_type": "execute_result",
          "data": {
            "text/plain": [
              "[299.87848,\n",
              " 299.6881,\n",
              " 299.49426,\n",
              " 299.30563,\n",
              " 299.1271,\n",
              " 298.96066,\n",
              " 298.80658,\n",
              " 298.66397,\n",
              " 298.53146,\n",
              " 298.40756,\n",
              " 298.2908,\n",
              " 298.17987,\n",
              " 298.07367,\n",
              " 297.9714,\n",
              " 297.8724,\n",
              " 297.77615,\n",
              " 297.6824,\n",
              " 297.59082,\n",
              " 297.5013,\n",
              " 297.41376,\n",
              " 297.328,\n",
              " 297.24405,\n",
              " 297.16183,\n",
              " 297.0813,\n",
              " 297.00244,\n",
              " 296.92517,\n",
              " 296.8495,\n",
              " 296.77533,\n",
              " 296.7027,\n",
              " 296.63147,\n",
              " 296.56168,\n",
              " 296.49326,\n",
              " 296.42615,\n",
              " 296.363,\n",
              " 296.3133,\n",
              " 296.27756,\n",
              " 296.25482,\n",
              " 296.24234,\n",
              " 296.23917,\n",
              " 296.24252,\n",
              " 296.2494,\n",
              " 296.25867,\n",
              " 296.2754,\n",
              " 296.30038,\n",
              " 296.33487,\n",
              " 296.37534,\n",
              " 296.41852,\n",
              " 296.4598,\n",
              " 296.4943,\n",
              " 296.51645,\n",
              " 296.52158,\n",
              " 296.5075,\n",
              " 296.47845,\n",
              " 296.44693,\n",
              " 296.43427,\n",
              " 296.44012,\n",
              " 296.44614,\n",
              " 296.45184,\n",
              " 296.45712,\n",
              " 296.46194,\n",
              " 296.46637,\n",
              " 296.4704,\n",
              " 296.47418,\n",
              " 296.47775,\n",
              " 296.4812,\n",
              " 296.4846,\n",
              " 296.4879,\n",
              " 296.49124,\n",
              " 296.49393,\n",
              " 296.49606,\n",
              " 296.49808,\n",
              " 296.50018,\n",
              " 296.50235,\n",
              " 296.50504,\n",
              " 296.5082,\n",
              " 296.5113,\n",
              " 296.5143,\n",
              " 296.51733,\n",
              " 296.5203,\n",
              " 296.52322,\n",
              " 296.52615,\n",
              " 296.52905,\n",
              " 296.53198,\n",
              " 296.5349,\n",
              " 296.5378,\n",
              " 296.5407,\n",
              " 296.5436,\n",
              " 296.54654,\n",
              " 296.54944,\n",
              " 296.55237,\n",
              " 296.5553,\n",
              " 296.55756,\n",
              " 296.5588,\n",
              " 296.55914,\n",
              " 296.55884,\n",
              " 296.55817,\n",
              " 296.55756,\n",
              " 296.56006,\n",
              " 296.5624,\n",
              " 296.5646,\n",
              " 296.56665,\n",
              " 296.56784,\n",
              " 296.56894,\n",
              " 296.57004,\n",
              " 296.57114,\n",
              " 296.5722,\n",
              " 296.5733,\n",
              " 296.5744,\n",
              " 296.5755,\n",
              " 296.5766,\n",
              " 296.5777,\n",
              " 296.57874,\n",
              " 296.5798,\n",
              " 296.58084,\n",
              " 296.58185,\n",
              " 296.58282,\n",
              " 296.58377,\n",
              " 296.58466,\n",
              " 296.58545,\n",
              " 296.58618,\n",
              " 296.5868,\n",
              " 296.58716,\n",
              " 296.58737,\n",
              " 296.58716,\n",
              " 296.58646,\n",
              " 296.585,\n",
              " 296.58237,\n",
              " 296.5781,\n",
              " 296.5712,\n",
              " 296.56027,\n",
              " 296.5503,\n",
              " 296.54984,\n",
              " 296.54907,\n",
              " 296.548,\n",
              " 296.5467,\n",
              " 296.5452,\n",
              " 296.54358,\n",
              " 296.5419,\n",
              " 296.54016,\n",
              " 296.53873,\n",
              " 296.53766,\n",
              " 296.5368,\n",
              " 296.53674,\n",
              " 296.53748,\n",
              " 296.53918,\n",
              " 296.5414,\n",
              " 296.54385,\n",
              " 296.54395,\n",
              " 296.5429,\n",
              " 296.5421,\n",
              " 296.5414,\n",
              " 296.5409,\n",
              " 296.54047,\n",
              " 296.5401,\n",
              " 296.5398,\n",
              " 296.53995,\n",
              " 296.54013,\n",
              " 296.54028,\n",
              " 296.54044,\n",
              " 296.54053,\n",
              " 296.54065,\n",
              " 296.5407,\n",
              " 296.54077,\n",
              " 296.54086,\n",
              " 296.54092,\n",
              " 296.54102,\n",
              " 296.5411,\n",
              " 296.54117,\n",
              " 296.54126,\n",
              " 296.54132,\n",
              " 296.54138,\n",
              " 296.54144,\n",
              " 296.5415,\n",
              " 296.5416,\n",
              " 296.54166,\n",
              " 296.54172,\n",
              " 296.54175,\n",
              " 296.54178,\n",
              " 296.5418,\n",
              " 296.5418,\n",
              " 296.54178,\n",
              " 296.54178,\n",
              " 296.54178,\n",
              " 296.54172,\n",
              " 296.54175,\n",
              " 296.54178,\n",
              " 296.5418,\n",
              " 296.54184,\n",
              " 296.5419,\n",
              " 296.5419,\n",
              " 296.54193,\n",
              " 296.54196,\n",
              " 296.542,\n",
              " 296.54202,\n",
              " 296.54205,\n",
              " 296.54205,\n",
              " 296.54208,\n",
              " 296.5421,\n",
              " 296.54214,\n",
              " 296.54218,\n",
              " 296.54218,\n",
              " 296.5422,\n",
              " 296.54224,\n",
              " 296.54227,\n",
              " 296.5423,\n",
              " 296.5423,\n",
              " 296.54233,\n",
              " 296.54236,\n",
              " 296.5424,\n",
              " 296.54242,\n",
              " 296.54242,\n",
              " 296.54245,\n",
              " 296.54248,\n",
              " 296.5425,\n",
              " 296.54254,\n",
              " 296.54257,\n",
              " 296.54257,\n",
              " 296.5426,\n",
              " 296.54266,\n",
              " 296.5427,\n",
              " 296.5427,\n",
              " 296.54272,\n",
              " 296.54276,\n",
              " 296.5428,\n",
              " 296.5428,\n",
              " 296.54282,\n",
              " 296.54285,\n",
              " 296.54285,\n",
              " 296.54285,\n",
              " 296.54285,\n",
              " 296.5428,\n",
              " 296.5428,\n",
              " 296.5428,\n",
              " 296.54276,\n",
              " 296.5427,\n",
              " 296.54257,\n",
              " 296.54242,\n",
              " 296.54242,\n",
              " 296.54242,\n",
              " 296.5424,\n",
              " 296.5424,\n",
              " 296.54236,\n",
              " 296.54236,\n",
              " 296.54242,\n",
              " 296.5425,\n",
              " 296.54254,\n",
              " 296.5425,\n",
              " 296.5425,\n",
              " 296.54236,\n",
              " 296.54233,\n",
              " 296.54233,\n",
              " 296.54233,\n",
              " 296.5423,\n",
              " 296.5423,\n",
              " 296.54227,\n",
              " 296.5423,\n",
              " 296.5423,\n",
              " 296.5423,\n",
              " 296.5423,\n",
              " 296.5423,\n",
              " 296.54233,\n",
              " 296.5423,\n",
              " 296.5423,\n",
              " 296.5423,\n",
              " 296.5423,\n",
              " 296.5423,\n",
              " 296.5423,\n",
              " 296.5423,\n",
              " 296.5423,\n",
              " 296.5423,\n",
              " 296.5423,\n",
              " 296.5423,\n",
              " 296.5423,\n",
              " 296.5423,\n",
              " 296.5423,\n",
              " 296.5423,\n",
              " 296.5423,\n",
              " 296.5423,\n",
              " 296.5423,\n",
              " 296.5423,\n",
              " 296.5423,\n",
              " 296.5423,\n",
              " 296.5423,\n",
              " 296.5423,\n",
              " 296.54233,\n",
              " 296.5423,\n",
              " 296.5423,\n",
              " 296.5423,\n",
              " 296.5423,\n",
              " 296.5423,\n",
              " 296.5423,\n",
              " 296.5423,\n",
              " 296.5423,\n",
              " 296.5423,\n",
              " 296.5423,\n",
              " 296.5423,\n",
              " 296.5423,\n",
              " 296.5423,\n",
              " 296.5423,\n",
              " 296.5423,\n",
              " 296.5423,\n",
              " 296.5423,\n",
              " 296.5423,\n",
              " 296.5423,\n",
              " 296.5423,\n",
              " 296.5423,\n",
              " 296.5423,\n",
              " 296.5423,\n",
              " 296.5423,\n",
              " 296.5423,\n",
              " 296.5423,\n",
              " 296.5423,\n",
              " 296.5423,\n",
              " 296.5423,\n",
              " 296.5423,\n",
              " 296.5423,\n",
              " 296.5423,\n",
              " 296.5423,\n",
              " 296.5423,\n",
              " 296.5423,\n",
              " 296.5423,\n",
              " 296.5423,\n",
              " 296.5423,\n",
              " 296.5423,\n",
              " 296.5423,\n",
              " 296.5423,\n",
              " 296.5423,\n",
              " 296.5423,\n",
              " 296.5423,\n",
              " 296.5423,\n",
              " 296.5423,\n",
              " 296.5423,\n",
              " 296.5423,\n",
              " 296.5423,\n",
              " 296.5423,\n",
              " 296.5423,\n",
              " 296.54233,\n",
              " 296.54233,\n",
              " 296.54233,\n",
              " 296.54233,\n",
              " 296.54233,\n",
              " 296.54233,\n",
              " 296.54233,\n",
              " 296.54233,\n",
              " 296.54233,\n",
              " 296.54233,\n",
              " 296.54233,\n",
              " 296.54233,\n",
              " 296.54233,\n",
              " 296.54233,\n",
              " 296.54233,\n",
              " 296.54233,\n",
              " 296.54233,\n",
              " 296.54233,\n",
              " 296.54233,\n",
              " 296.54233,\n",
              " 296.54233,\n",
              " 296.54233,\n",
              " 296.54233,\n",
              " 296.54233,\n",
              " 296.54233,\n",
              " 296.54233,\n",
              " 296.54233,\n",
              " 296.54233,\n",
              " 296.54233,\n",
              " 296.54233,\n",
              " 296.54233,\n",
              " 296.54233,\n",
              " 296.54233,\n",
              " 296.54233,\n",
              " 296.54233,\n",
              " 296.54233,\n",
              " 296.54233,\n",
              " 296.54233,\n",
              " 296.54233,\n",
              " 296.54233,\n",
              " 296.54233,\n",
              " 296.54233,\n",
              " 296.54233,\n",
              " 296.54233,\n",
              " 296.54233,\n",
              " 296.54233,\n",
              " 296.54233,\n",
              " 296.54233,\n",
              " 296.54233,\n",
              " 296.54233,\n",
              " 296.54233,\n",
              " 296.54233,\n",
              " 296.54233,\n",
              " 296.54233,\n",
              " 296.54233,\n",
              " 296.54233,\n",
              " 296.54233,\n",
              " 296.54233,\n",
              " 296.54233,\n",
              " 296.54233,\n",
              " 296.54233,\n",
              " 296.54233,\n",
              " 296.54233,\n",
              " 296.54233,\n",
              " 296.54233,\n",
              " 296.54233,\n",
              " 296.54233,\n",
              " 296.54233,\n",
              " 296.54233,\n",
              " 296.54233,\n",
              " 296.54233,\n",
              " 296.54233,\n",
              " 296.54233,\n",
              " 296.54233,\n",
              " 296.54233,\n",
              " 296.54233,\n",
              " 296.54233,\n",
              " 296.54233,\n",
              " 296.54233,\n",
              " 296.54233,\n",
              " 296.54233,\n",
              " 296.54233,\n",
              " 296.54233,\n",
              " 296.54233,\n",
              " 296.54233,\n",
              " 296.54233,\n",
              " 296.54233,\n",
              " 296.54233,\n",
              " 296.54233,\n",
              " 296.54233,\n",
              " 296.54233,\n",
              " 296.54233,\n",
              " 296.54233,\n",
              " 296.54233,\n",
              " 296.54233,\n",
              " 296.54233,\n",
              " 296.54233,\n",
              " 296.54233,\n",
              " 296.54233,\n",
              " 296.54233,\n",
              " 296.54715,\n",
              " 296.5424,\n",
              " 296.54245,\n",
              " 296.5425,\n",
              " 296.54257,\n",
              " 296.54263,\n",
              " 296.54266,\n",
              " 296.5427,\n",
              " 296.54272,\n",
              " 296.54276,\n",
              " 296.54276,\n",
              " 296.54276,\n",
              " 296.54276,\n",
              " 296.5428,\n",
              " 296.5428,\n",
              " 296.5428,\n",
              " 296.5428,\n",
              " 296.5428,\n",
              " 296.5428,\n",
              " 296.5428,\n",
              " 296.5428,\n",
              " 296.5428,\n",
              " 296.54282,\n",
              " 296.54282,\n",
              " 296.54282,\n",
              " 296.54282,\n",
              " 296.54282,\n",
              " 296.54282,\n",
              " 296.54282,\n",
              " 296.54282,\n",
              " 296.54282,\n",
              " 296.54282,\n",
              " 296.54282,\n",
              " 296.54282,\n",
              " 296.54285,\n",
              " 296.54285,\n",
              " 296.54285,\n",
              " 296.54285,\n",
              " 296.54285,\n",
              " 296.54285,\n",
              " 296.54285,\n",
              " 296.54285,\n",
              " 296.54285,\n",
              " 296.54285,\n",
              " 296.54285,\n",
              " 296.54285,\n",
              " 296.54285,\n",
              " 296.54285,\n",
              " 296.54285,\n",
              " 296.54285,\n",
              " 296.54285,\n",
              " 296.54285,\n",
              " 296.54285,\n",
              " 296.54285,\n",
              " 296.54285,\n",
              " 296.54285,\n",
              " 296.54285,\n",
              " 296.54285,\n",
              " 296.54285,\n",
              " 296.54285,\n",
              " 296.54288,\n",
              " 296.54288,\n",
              " 296.54288,\n",
              " 296.54288]"
            ]
          },
          "metadata": {},
          "execution_count": 175
        }
      ]
    },
    {
      "cell_type": "code",
      "source": [
        "plt.figure(figsize=(22, 10))\n",
        "plt.plot(test[['Predictions', 'Close']])\n",
        "plt.plot(train.Close)\n",
        "plt.legend(['Predicted', 'Actual', 'Actual-Train', 'Future'])\n",
        "plt.plot(abcd['predictions'])"
      ],
      "metadata": {
        "colab": {
          "base_uri": "https://localhost:8080/",
          "height": 611
        },
        "id": "58evesrB5xeF",
        "outputId": "89dd8b56-6889-414c-c646-a001b33742fe"
      },
      "execution_count": 176,
      "outputs": [
        {
          "output_type": "execute_result",
          "data": {
            "text/plain": [
              "[<matplotlib.lines.Line2D at 0x7f7991ff1bd0>]"
            ]
          },
          "metadata": {},
          "execution_count": 176
        },
        {
          "output_type": "display_data",
          "data": {
            "image/png": "[encoded data removed]",
            "text/plain": [
              "<Figure size 1584x720 with 1 Axes>"
            ]
          },
          "metadata": {
            "needs_background": "light"
          }
        }
      ]
    },
    {
      "cell_type": "code",
      "source": [
        ""
      ],
      "metadata": {
        "id": "RtcZlz6150z6"
      },
      "execution_count": 176,
      "outputs": []
    }
  ],
  "metadata": {
    "accelerator": "TPU",
    "colab": {
      "name": "Stonks using stacked LSTM",
      "provenance": [],
      "collapsed_sections": [],
      "authorship_tag": "ABX9TyPxNNmU1OwlL5oWUPUPKPtT",
      "include_colab_link": true
    },
    "kernelspec": {
      "display_name": "Python 3",
      "name": "python3"
    },
    "language_info": {
      "name": "python"
    }
  },
  "nbformat": 4,
  "nbformat_minor": 0
}